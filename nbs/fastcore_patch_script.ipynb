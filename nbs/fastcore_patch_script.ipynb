{
 "cells": [
  {
   "cell_type": "code",
   "execution_count": null,
   "metadata": {},
   "outputs": [],
   "source": [
    "#default_exp patch_fastcore_script"
   ]
  },
  {
   "cell_type": "code",
   "execution_count": null,
   "metadata": {},
   "outputs": [],
   "source": [
    "#export\n",
    "try: from fastcore.all import *\n",
    "except: pass\n",
    "import argparse\n",
    "import inspect"
   ]
  },
  {
   "cell_type": "code",
   "execution_count": null,
   "metadata": {},
   "outputs": [],
   "source": [
    "#export\n",
    "def _store_attr(self, anno, **attrs):\n",
    "    stored = self.__stored_args__\n",
    "    for n,v in attrs.items():\n",
    "        if n in anno: v = anno[n](v)\n",
    "        setattr(self, n, v)\n",
    "        stored[n] = v\n",
    "\n",
    "def store_attr(names=None, self=None, but='', cast=False, **attrs):\n",
    "    \"Store params named in comma-separated `names` from calling context into attrs in `self`\"\n",
    "    fr = sys._getframe(1)\n",
    "    args = fr.f_code.co_varnames[:fr.f_code.co_argcount]\n",
    "    if self: args = ('self', *args)\n",
    "    else: self = fr.f_locals[args[0]]\n",
    "    if not hasattr(self, '__stored_args__'): self.__stored_args__ = {}\n",
    "    anno = annotations(self) if cast else {}\n",
    "    if not attrs:\n",
    "        ns = re.split(', *', names) if names else args[1:]\n",
    "        attrs = {n:fr.f_locals[n] for n in ns}\n",
    "    if isinstance(but,str): but = re.split(', *', but)\n",
    "    attrs = {k:v for k,v in attrs.items() if k not in but}\n",
    "    return _store_attr(self, anno, **attrs)"
   ]
  },
  {
   "cell_type": "code",
   "execution_count": null,
   "metadata": {},
   "outputs": [],
   "source": [
    "#export\n",
    "def clean_type_str(x:str):\n",
    "    x = str(x)\n",
    "    x = re.sub(\"(class|function|__main__\\.|\\ at.*)\", '', x)\n",
    "    x = re.sub(\"(<|>|'|\\ )\", '', x) # spl characters\n",
    "    return x\n",
    "\n",
    "#export\n",
    "def store_false():\n",
    "    \"Placeholder to pass to `Param` for `store_false` action\"\n",
    "    pass\n",
    "\n",
    "#export\n",
    "def store_true():\n",
    "    \"Placeholder to pass to `Param` for `store_true` action\"\n",
    "    pass"
   ]
  },
  {
   "cell_type": "code",
   "execution_count": null,
   "metadata": {},
   "outputs": [],
   "source": [
    "#export\n",
    "class Param:\n",
    "    \"A parameter in a function used in `anno_parser` or `call_parse`\"\n",
    "    def __init__(self, help=None, type=None, opt=True, action=None, nargs=None, const=None,\n",
    "                 choices=None, required=None, metavar=None, alias=None, default=None):\n",
    "        if type==store_true:  type,action,default=None,'store_true' ,False\n",
    "        if type==store_false: type,action,default=None,'store_false',True\n",
    "        store_attr()\n",
    "        \n",
    "    def set_default(self, d):\n",
    "        if self.default is None:\n",
    "            if d==inspect.Parameter.empty:\n",
    "                #self.opt = False\n",
    "                self.default=None\n",
    "            else: self.default = d\n",
    "        if self.default is not None: self.help += f\"\"\n",
    "\n",
    "    @property\n",
    "    def pre(self): return '--' if self.opt else ''\n",
    "    @property\n",
    "    def kwargs(self): return {k:v for k,v in self.__dict__.items()\n",
    "                              if v is not None and k!='opt' and k[0]!='_' and k!='alias'}\n",
    "    def __repr__(self):\n",
    "        if self.help is None and self.type is None: return \"\"\n",
    "        if self.help is None and self.type is not None: return f\"{clean_type_str(self.type)}\"\n",
    "        if self.help is not None and self.type is None: return f\"<{self.help}>\"\n",
    "        if self.help is not None and self.type is not None: return f\"{clean_type_str(self.type)} <{self.help}>\""
   ]
  },
  {
   "cell_type": "code",
   "execution_count": null,
   "metadata": {},
   "outputs": [],
   "source": [
    "#export\n",
    "class CustomFormatter(argparse.ArgumentDefaultsHelpFormatter,\n",
    "                      argparse.RawDescriptionHelpFormatter,\n",
    "                      #argparse.MetavarTypeHelpFormatter\n",
    "                     ): pass\n",
    "\n",
    "def anno_parser(func, prog=None, from_name=False):\n",
    "    \"Look at params (annotated with `Param`) in func and return an `ArgumentParser`\"\n",
    "    p = argparse.ArgumentParser(description=func.__doc__, prog=prog, formatter_class=CustomFormatter)\n",
    "    for k,v in inspect.signature(func).parameters.items():\n",
    "        param = func.__annotations__.get(k, Param())\n",
    "        param.set_default(v.default)\n",
    "        #p.add_argument(f\"{param.pre}{k}\", **param.kwargs)\n",
    "        if param.opt is True:\n",
    "            if param.alias is None: p.add_argument( f\"--{k}\", **param.kwargs)\n",
    "            else: p.add_argument(f\"-{param.alias}\", f\"--{k}\", **param.kwargs)\n",
    "    p.add_argument(f\"--pdb\", help=\"Run in pdb debugger\", action='store_true')\n",
    "    p.add_argument(f\"--xtra\", help=\"Parse for additional args\", type=str)\n",
    "    return p"
   ]
  },
  {
   "cell_type": "code",
   "execution_count": null,
   "metadata": {},
   "outputs": [
    {
     "name": "stdout",
     "output_type": "stream",
     "text": [
      "usage: progname [-h] [--required REQUIRED] [--a A] [--b B] [--pdb]\n",
      "                [--xtra XTRA]\n",
      "\n",
      "my docs\n",
      "\n",
      "optional arguments:\n",
      "  -h, --help           show this help message and exit\n",
      "  --required REQUIRED  Required param (default: None)\n",
      "  --a A                param 1 (default: 1)\n",
      "  --b B                param 2 (default: test)\n",
      "  --pdb                Run in pdb debugger (default: False)\n",
      "  --xtra XTRA          Parse for additional args (default: None)\n"
     ]
    }
   ],
   "source": [
    "def f(required:Param(\"Required param\", int),\n",
    "      a:Param(\"param 1\", bool_arg)=1,\n",
    "      b:Param(\"param 2\", str)=\"test\"):\n",
    "    \"my docs\"\n",
    "    ...\n",
    "\n",
    "p = anno_parser(f, 'progname')\n",
    "p.print_help()"
   ]
  },
  {
   "cell_type": "markdown",
   "metadata": {},
   "source": [
    "### Export"
   ]
  },
  {
   "cell_type": "code",
   "execution_count": null,
   "metadata": {},
   "outputs": [
    {
     "name": "stdout",
     "output_type": "stream",
     "text": [
      "Converted docs.ipynb.\n",
      "Converted fastcore_patch_script.ipynb.\n",
      "Converted index.ipynb.\n",
      "Converted utils.ipynb.\n"
     ]
    }
   ],
   "source": [
    "from nbdev.export import *\n",
    "notebook2script()"
   ]
  }
 ],
 "metadata": {
  "kernelspec": {
   "display_name": "Python 3",
   "language": "python",
   "name": "python3"
  }
 },
 "nbformat": 4,
 "nbformat_minor": 4
}
