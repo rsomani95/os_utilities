{
 "cells": [
  {
   "cell_type": "code",
   "execution_count": 1,
   "metadata": {},
   "outputs": [],
   "source": [
    "#default_exp utils"
   ]
  },
  {
   "cell_type": "code",
   "execution_count": 2,
   "metadata": {},
   "outputs": [],
   "source": [
    "#export\n",
    "from pathlib import Path\n",
    "from typing import Union,Dict,List,Tuple,Any,Optional,Collection,Iterable\n",
    "\n",
    "import shutil\n",
    "import re\n",
    "import json\n",
    "import os\n",
    "import mimetypes"
   ]
  },
  {
   "cell_type": "code",
   "execution_count": 3,
   "metadata": {},
   "outputs": [],
   "source": [
    "#export\n",
    "PathLike      = Union[str,Path]\n",
    "ListOfPaths   = List[Path]\n",
    "ListOfStrings = List[str]"
   ]
  },
  {
   "cell_type": "markdown",
   "metadata": {},
   "source": [
    "### List Files "
   ]
  },
  {
   "cell_type": "code",
   "execution_count": 4,
   "metadata": {},
   "outputs": [],
   "source": [
    "#export\n",
    "def ls(path:Path, list_hidden:bool=False) -> List[Path]:\n",
    "    \"List files, while hiding hidden files or directories by default\"\n",
    "    if list_hidden: return list(path.iterdir())\n",
    "    else:\n",
    "        return [p for p in path.iterdir() if not p.name.startswith('.')]\n",
    "\n",
    "def listdirs(path:Path, sort=True) -> List[Path]:\n",
    "    \"List directories in `path`\"\n",
    "    dirs = [p for p in path.ls() if p.is_dir()]\n",
    "    if sort: return sorted(dirs)\n",
    "    else: return dirs\n",
    "    \n",
    "Path.ls = ls\n",
    "Path.listdirs = listdirs"
   ]
  },
  {
   "cell_type": "code",
   "execution_count": 5,
   "metadata": {},
   "outputs": [
    {
     "data": {
      "text/plain": [
       "[PosixPath('/Users/rahulsomani/Desktop/test-images/2.jpg'),\n",
       " PosixPath('/Users/rahulsomani/Desktop/test-images/3.jpg'),\n",
       " PosixPath('/Users/rahulsomani/Desktop/test-images/1.jpg')]"
      ]
     },
     "execution_count": 5,
     "metadata": {},
     "output_type": "execute_result"
    }
   ],
   "source": [
    "path = Path(\"/Users/rahulsomani/Desktop/test-images/\")\n",
    "path.ls()"
   ]
  },
  {
   "cell_type": "code",
   "execution_count": 6,
   "metadata": {},
   "outputs": [
    {
     "data": {
      "text/plain": [
       "[PosixPath('/Users/rahulsomani/Desktop/DATA-SCRAPE'),\n",
       " PosixPath('/Users/rahulsomani/Desktop/DATASETS'),\n",
       " PosixPath('/Users/rahulsomani/Desktop/Synopsis'),\n",
       " PosixPath('/Users/rahulsomani/Desktop/cinemanet-tests'),\n",
       " PosixPath('/Users/rahulsomani/Desktop/data-heist'),\n",
       " PosixPath('/Users/rahulsomani/Desktop/isabella-koshy.github.io'),\n",
       " PosixPath('/Users/rahulsomani/Desktop/label-studio'),\n",
       " PosixPath('/Users/rahulsomani/Desktop/location-workspace'),\n",
       " PosixPath('/Users/rahulsomani/Desktop/nsfw-workspace'),\n",
       " PosixPath('/Users/rahulsomani/Desktop/shotdeck-cropped'),\n",
       " PosixPath('/Users/rahulsomani/Desktop/test-images')]"
      ]
     },
     "execution_count": 6,
     "metadata": {},
     "output_type": "execute_result"
    }
   ],
   "source": [
    "path.parent.listdirs() # list all directories in Destop"
   ]
  },
  {
   "cell_type": "markdown",
   "metadata": {},
   "source": [
    "### Get Files From Directory"
   ]
  },
  {
   "cell_type": "code",
   "execution_count": 7,
   "metadata": {},
   "outputs": [],
   "source": [
    "#export\n",
    "def get_files(path:PathLike,\n",
    "              extensions:Collection[str]=None,\n",
    "              recurse:bool=False,\n",
    "              exclude:Optional[Collection[str]]=None,\n",
    "              include:Optional[Collection[str]]=None,\n",
    "              presort:bool=False,\n",
    "              followlinks:bool=False) -> List[Path]:\n",
    "    \"\"\"\n",
    "    Return list of files in `path` that have a suffix in `extensions`; optionally `recurse`.\n",
    "    Use `include` and `exclude` for including/excluding folder names, `presort` to sort.\n",
    "    \"\"\"\n",
    "    if recurse:\n",
    "        res = []\n",
    "        for i,(p,d,f) in enumerate(os.walk(path, followlinks=followlinks)):\n",
    "            # skip hidden dirs\n",
    "            if include is not None and i==0:   d[:] = [o for o in d if o in include]\n",
    "            elif exclude is not None and i==0: d[:] = [o for o in d if o not in exclude]\n",
    "            else:                              d[:] = [o for o in d if not o.startswith('.')]\n",
    "            res += _get_files(path, p, f, extensions)\n",
    "        if presort: res = sorted(res, key=lambda p: _path_to_same_str(p), reverse=False)\n",
    "        return res\n",
    "    else:\n",
    "        f = [o.name for o in os.scandir(path) if o.is_file()]\n",
    "        res = _get_files(path, path, f, extensions)\n",
    "        if presort: res = sorted(res, key=lambda p: _path_to_same_str(p), reverse=False)\n",
    "        return res\n",
    "\n",
    "def _path_to_same_str(p_fn:PathLike) -> str:\n",
    "    \"path -> str, but same on nt+posix, for alpha-sort only\"\n",
    "    s_fn = str(p_fn)\n",
    "    s_fn = s_fn.replace('\\\\','.')\n",
    "    s_fn = s_fn.replace('/','.')\n",
    "    return s_fn\n",
    "\n",
    "def _get_files(parent, p, f, extensions) -> list:\n",
    "    p = Path(p)#.relative_to(parent)\n",
    "    if isinstance(extensions,str): extensions = [extensions]\n",
    "    low_extensions = [e.lower() for e in extensions] if extensions is not None else None\n",
    "    res = [p/o for o in f if not o.startswith('.')\n",
    "           and (extensions is None or f'.{o.split(\".\")[-1].lower()}' in low_extensions)]\n",
    "    return res"
   ]
  },
  {
   "cell_type": "code",
   "execution_count": 8,
   "metadata": {},
   "outputs": [
    {
     "data": {
      "text/plain": [
       "[PosixPath('/Users/rahulsomani/Desktop/2020_10_13__creatures.json'),\n",
       " PosixPath('/Users/rahulsomani/Desktop/2020_10_13__tied_up.json'),\n",
       " PosixPath('/Users/rahulsomani/Desktop/2020_10_13__explosions_accidents.json')]"
      ]
     },
     "execution_count": 8,
     "metadata": {},
     "output_type": "execute_result"
    }
   ],
   "source": [
    "get_files(\"/Users/rahulsomani/Desktop\")"
   ]
  },
  {
   "cell_type": "code",
   "execution_count": 9,
   "metadata": {},
   "outputs": [
    {
     "data": {
      "text/plain": [
       "[PosixPath('/Users/rahulsomani/Desktop/label-studio/location-config-pretty.html'),\n",
       " PosixPath('/Users/rahulsomani/Desktop/label-studio/nsfw-config.html'),\n",
       " PosixPath('/Users/rahulsomani/Desktop/isabella-koshy.github.io/index.html')]"
      ]
     },
     "execution_count": 9,
     "metadata": {},
     "output_type": "execute_result"
    }
   ],
   "source": [
    "get_files(\"/Users/rahulsomani/Desktop\", recurse=True, extensions=[\".html\"])"
   ]
  },
  {
   "cell_type": "code",
   "execution_count": 10,
   "metadata": {},
   "outputs": [],
   "source": [
    "#export\n",
    "image_extensions = set(k for k,v in mimetypes.types_map.items() if v.startswith('image/'))\n",
    "video_extensions = set([k for k,v in mimetypes.types_map.items() if v.startswith('video/')] + ['.mkv'])\n",
    "\n",
    "def get_image_files(path:PathLike,\n",
    "                    include:Optional[ListOfStrings]=None,\n",
    "                    exclude:Optional[ListOfStrings]=None,\n",
    "                    recurse:bool=True) -> List[Path]:\n",
    "    return get_files(path=path, include=include, exclude=exclude, recurse=recurse, extensions=image_extensions)\n",
    "\n",
    "def get_video_files(path:PathLike,\n",
    "                    include:Optional[ListOfStrings]=None,\n",
    "                    exclude:Optional[ListOfStrings]=None,\n",
    "                    recurse:bool=True) -> List[Path]:\n",
    "    return get_files(path=path, include=include, exclude=exclude, recurse=recurse, extensions=video_extensions)"
   ]
  },
  {
   "cell_type": "code",
   "execution_count": 11,
   "metadata": {},
   "outputs": [
    {
     "data": {
      "text/plain": [
       "{'.avi',\n",
       " '.m1v',\n",
       " '.mkv',\n",
       " '.mov',\n",
       " '.movie',\n",
       " '.mp4',\n",
       " '.mpa',\n",
       " '.mpe',\n",
       " '.mpeg',\n",
       " '.mpg',\n",
       " '.qt',\n",
       " '.webm'}"
      ]
     },
     "execution_count": 11,
     "metadata": {},
     "output_type": "execute_result"
    }
   ],
   "source": [
    "video_extensions"
   ]
  },
  {
   "cell_type": "code",
   "execution_count": 12,
   "metadata": {},
   "outputs": [
    {
     "data": {
      "text/plain": [
       "{'.bmp',\n",
       " '.gif',\n",
       " '.ico',\n",
       " '.ief',\n",
       " '.jpe',\n",
       " '.jpeg',\n",
       " '.jpg',\n",
       " '.pbm',\n",
       " '.pgm',\n",
       " '.png',\n",
       " '.pnm',\n",
       " '.ppm',\n",
       " '.ras',\n",
       " '.rgb',\n",
       " '.svg',\n",
       " '.tif',\n",
       " '.tiff',\n",
       " '.xbm',\n",
       " '.xpm',\n",
       " '.xwd'}"
      ]
     },
     "execution_count": 12,
     "metadata": {},
     "output_type": "execute_result"
    }
   ],
   "source": [
    "image_extensions"
   ]
  },
  {
   "cell_type": "markdown",
   "metadata": {},
   "source": [
    "### Flatten List, List of Lists"
   ]
  },
  {
   "cell_type": "code",
   "execution_count": 13,
   "metadata": {},
   "outputs": [],
   "source": [
    "#export\n",
    "def flatten(x:Any) -> List[Any]:\n",
    "    flattened_list = []\n",
    "    for item in x:\n",
    "        if isinstance(item, (tuple,list)):\n",
    "            [flattened_list.append(i) for i in item]\n",
    "        else:\n",
    "            flattened_list.append(item)\n",
    "    return flattened_list"
   ]
  },
  {
   "cell_type": "code",
   "execution_count": 14,
   "metadata": {},
   "outputs": [
    {
     "data": {
      "text/plain": [
       "['a']"
      ]
     },
     "execution_count": 14,
     "metadata": {},
     "output_type": "execute_result"
    }
   ],
   "source": [
    "flatten(\"a\")"
   ]
  },
  {
   "cell_type": "code",
   "execution_count": 15,
   "metadata": {},
   "outputs": [
    {
     "data": {
      "text/plain": [
       "['a', 'b']"
      ]
     },
     "execution_count": 15,
     "metadata": {},
     "output_type": "execute_result"
    }
   ],
   "source": [
    "flatten((\"a\", \"b\"))"
   ]
  },
  {
   "cell_type": "code",
   "execution_count": 16,
   "metadata": {},
   "outputs": [
    {
     "data": {
      "text/plain": [
       "['list_item', 'sub_list_item1', 'sub_list_item2']"
      ]
     },
     "execution_count": 16,
     "metadata": {},
     "output_type": "execute_result"
    }
   ],
   "source": [
    "sub_list_items = [\"sub_list_item1\", \"sub_list_item2\"]\n",
    "flatten(['list_item', sub_list_items])"
   ]
  },
  {
   "cell_type": "code",
   "execution_count": 17,
   "metadata": {},
   "outputs": [],
   "source": [
    "#export\n",
    "def mkdir(x:Path) -> None:\n",
    "    x.mkdir(exist_ok=True)\n",
    "\n",
    "def uniqueify(x:Collection) -> Collection:\n",
    "    return sorted(list(set(x)))"
   ]
  },
  {
   "cell_type": "code",
   "execution_count": 18,
   "metadata": {},
   "outputs": [
    {
     "data": {
      "text/plain": [
       "['a']"
      ]
     },
     "execution_count": 18,
     "metadata": {},
     "output_type": "execute_result"
    }
   ],
   "source": [
    "uniqueify(['a', 'a', 'a'])"
   ]
  },
  {
   "cell_type": "code",
   "execution_count": 19,
   "metadata": {},
   "outputs": [
    {
     "data": {
      "text/plain": [
       "['a', 'aa']"
      ]
     },
     "execution_count": 19,
     "metadata": {},
     "output_type": "execute_result"
    }
   ],
   "source": [
    "uniqueify([\"a\", \"aa\"])"
   ]
  },
  {
   "cell_type": "markdown",
   "metadata": {},
   "source": [
    "### Clean Filename"
   ]
  },
  {
   "cell_type": "code",
   "execution_count": 20,
   "metadata": {},
   "outputs": [],
   "source": [
    "#export\n",
    "def clean_filename(fname:str, truncate:bool=True, prefix:bool=None, to_lower:bool=True) -> str:\n",
    "    'Clean a string to contain only alphabets, numbers, and/or underscores'\n",
    "    import re\n",
    "    \n",
    "    f = Path(fname)\n",
    "    fractions  = '\\u00BC-\\u00BE\\u2150-\\u215E' # not-exhaustive..?\n",
    "    supscripts = '\\u00B1-\\u00B9'\n",
    "\n",
    "    fname_new = re.sub(f'[\\W{supscripts}{fractions}]', '_', f.stem) # captures (?) subscripts, fractions, other non-alphanumerics\n",
    "    fname_new = re.sub(f'[^A-Za-z0-9_+]', '_', fname_new)           # captures alphabets in foreign languages\n",
    "    fname_new = re.sub('^[\\W_]*'     , '' , fname_new)              # replace leading spl characters or '_'\n",
    "    \n",
    "    if truncate:\n",
    "        if len(fname_new) > 200: fname_new = fname_new[:200]\n",
    "    if prefix:\n",
    "        fname_new = f\"{prefix}_{fname_new}\"\n",
    "    if to_lower: fname_new = fname_new.lower()\n",
    "    \n",
    "    return fname_new"
   ]
  },
  {
   "cell_type": "code",
   "execution_count": 21,
   "metadata": {},
   "outputs": [
    {
     "data": {
      "text/plain": [
       "'this_is_a_horrible_fileneme_________'"
      ]
     },
     "execution_count": 21,
     "metadata": {},
     "output_type": "execute_result"
    }
   ],
   "source": [
    "clean_filename(\"this is A HoRRIBLE FILENEME !!!! --+\")"
   ]
  },
  {
   "cell_type": "code",
   "execution_count": 22,
   "metadata": {},
   "outputs": [
    {
     "data": {
      "text/plain": [
       "'this_is_A_HoRRIBLE_FILENEME_________'"
      ]
     },
     "execution_count": 22,
     "metadata": {},
     "output_type": "execute_result"
    }
   ],
   "source": [
    "clean_filename(\"this is A HoRRIBLE FILENEME !!!! --+\", to_lower=False)"
   ]
  },
  {
   "cell_type": "code",
   "execution_count": 23,
   "metadata": {},
   "outputs": [
    {
     "data": {
      "text/plain": [
       "'hmm_this_is_a_horrible_fileneme_________'"
      ]
     },
     "execution_count": 23,
     "metadata": {},
     "output_type": "execute_result"
    }
   ],
   "source": [
    "clean_filename(\"this is A HoRRIBLE FILENEME !!!! --+\", to_lower=True, prefix=\"HMM\")"
   ]
  },
  {
   "cell_type": "markdown",
   "metadata": {},
   "source": [
    "### Export"
   ]
  },
  {
   "cell_type": "code",
   "execution_count": 26,
   "metadata": {},
   "outputs": [
    {
     "name": "stdout",
     "output_type": "stream",
     "text": [
      "Converted utils.ipynb.\n"
     ]
    }
   ],
   "source": [
    "from nbdev.export import *\n",
    "notebook2script('utils.ipynb')"
   ]
  }
 ],
 "metadata": {
  "kernelspec": {
   "display_name": "Python 3",
   "language": "python",
   "name": "python3"
  },
  "language_info": {
   "codemirror_mode": {
    "name": "ipython",
    "version": 3
   },
   "file_extension": ".py",
   "mimetype": "text/x-python",
   "name": "python",
   "nbconvert_exporter": "python",
   "pygments_lexer": "ipython3",
   "version": "3.7.7"
  },
  "varInspector": {
   "cols": {
    "lenName": 16,
    "lenType": 16,
    "lenVar": 40
   },
   "kernels_config": {
    "python": {
     "delete_cmd_postfix": "",
     "delete_cmd_prefix": "del ",
     "library": "var_list.py",
     "varRefreshCmd": "print(var_dic_list())"
    },
    "r": {
     "delete_cmd_postfix": ") ",
     "delete_cmd_prefix": "rm(",
     "library": "var_list.r",
     "varRefreshCmd": "cat(var_dic_list()) "
    }
   },
   "types_to_exclude": [
    "module",
    "function",
    "builtin_function_or_method",
    "instance",
    "_Feature"
   ],
   "window_display": false
  }
 },
 "nbformat": 4,
 "nbformat_minor": 4
}
