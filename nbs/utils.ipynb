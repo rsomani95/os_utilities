{
 "cells": [
  {
   "cell_type": "code",
   "execution_count": 1,
   "metadata": {},
   "outputs": [],
   "source": [
    "#default_exp utils"
   ]
  },
  {
   "cell_type": "code",
   "execution_count": 2,
   "metadata": {},
   "outputs": [],
   "source": [
    "#export\n",
    "from pathlib import Path\n",
    "from typing import Union,Dict,List,Tuple,Any,Optional,Collection\n",
    "\n",
    "import shutil\n",
    "import re\n",
    "import json\n",
    "import os\n",
    "import mimetypes"
   ]
  },
  {
   "cell_type": "code",
   "execution_count": 3,
   "metadata": {},
   "outputs": [],
   "source": [
    "#export\n",
    "PathOrStr     = Union[str,Path]\n",
    "ListOfPaths   = Collection[Path]\n",
    "ListOfStrings = Collection[str]"
   ]
  },
  {
   "cell_type": "markdown",
   "metadata": {},
   "source": [
    "### List Files "
   ]
  },
  {
   "cell_type": "code",
   "execution_count": 4,
   "metadata": {},
   "outputs": [],
   "source": [
    "#export\n",
    "def ls(path:Path, list_hidden=False):\n",
    "    \"List files, while hiding hidden files or directories by default\"\n",
    "    if list_hidden: return list(path.iterdir())\n",
    "    else:\n",
    "        return [p for p in path.iterdir() if not p.name.startswith('.')]\n",
    "\n",
    "Path.ls       = lambda x,hidden=False: ls(x,hidden)\n",
    "Path.listdirs = lambda x: sorted([p for p in x.ls() if p.is_dir()])"
   ]
  },
  {
   "cell_type": "markdown",
   "metadata": {},
   "source": [
    "### Get Files From Directory"
   ]
  },
  {
   "cell_type": "code",
   "execution_count": 5,
   "metadata": {},
   "outputs": [],
   "source": [
    "#export\n",
    "def get_files(path:PathOrStr, extensions:Collection[str]=None, recurse:bool=False, exclude:Optional[Collection[str]]=None,\n",
    "              include:Optional[Collection[str]]=None, presort:bool=False, followlinks:bool=False) -> ListOfPaths:\n",
    "    \"\"\"\n",
    "    Return list of files in `path` that have a suffix in `extensions`; optionally `recurse`.\n",
    "    Use `include` and `exclude` for including/excluding folder names, `presort` to sort.\n",
    "    \"\"\"\n",
    "    if recurse:\n",
    "        res = []\n",
    "        for i,(p,d,f) in enumerate(os.walk(path, followlinks=followlinks)):\n",
    "            # skip hidden dirs\n",
    "            if include is not None and i==0:   d[:] = [o for o in d if o in include]\n",
    "            elif exclude is not None and i==0: d[:] = [o for o in d if o not in exclude]\n",
    "            else:                              d[:] = [o for o in d if not o.startswith('.')]\n",
    "            res += _get_files(path, p, f, extensions)\n",
    "        if presort: res = sorted(res, key=lambda p: _path_to_same_str(p), reverse=False)\n",
    "        return res\n",
    "    else:\n",
    "        f = [o.name for o in os.scandir(path) if o.is_file()]\n",
    "        res = _get_files(path, path, f, extensions)\n",
    "        if presort: res = sorted(res, key=lambda p: _path_to_same_str(p), reverse=False)\n",
    "        return res\n",
    "\n",
    "def _path_to_same_str(p_fn):\n",
    "    \"path -> str, but same on nt+posix, for alpha-sort only\"\n",
    "    s_fn = str(p_fn)\n",
    "    s_fn = s_fn.replace('\\\\','.')\n",
    "    s_fn = s_fn.replace('/','.')\n",
    "    return s_fn\n",
    "\n",
    "def _get_files(parent, p, f, extensions):\n",
    "    p = Path(p)#.relative_to(parent)\n",
    "    if isinstance(extensions,str): extensions = [extensions]\n",
    "    low_extensions = [e.lower() for e in extensions] if extensions is not None else None\n",
    "    res = [p/o for o in f if not o.startswith('.')\n",
    "           and (extensions is None or f'.{o.split(\".\")[-1].lower()}' in low_extensions)]\n",
    "    return res"
   ]
  },
  {
   "cell_type": "code",
   "execution_count": 6,
   "metadata": {},
   "outputs": [],
   "source": [
    "#export\n",
    "image_extensions = set(k for k,v in mimetypes.types_map.items() if v.startswith('image/'))\n",
    "video_extensions = set([k for k,v in mimetypes.types_map.items() if v.startswith('video/')] + ['.mkv'])\n",
    "\n",
    "def get_image_files(path:PathOrStr, include:Optional[ListOfStrings]=None, exclude:Optional[ListOfStrings]=None, recurse:bool=True):\n",
    "    return get_files(path=path, include=include, exclude=exclude, recurse=recurse, extensions=image_extensions)\n",
    "\n",
    "def get_video_files(path:PathOrStr, include:Optional[ListOfStrings]=None, exclude:Optional[ListOfStrings]=None, recurse:bool=True):\n",
    "    return get_files(path=path, include=include, exclude=exclude, recurse=recurse, extensions=video_extensions)"
   ]
  },
  {
   "cell_type": "code",
   "execution_count": null,
   "metadata": {},
   "outputs": [],
   "source": []
  },
  {
   "cell_type": "markdown",
   "metadata": {},
   "source": [
    "### Flatten List, List of Lists"
   ]
  },
  {
   "cell_type": "code",
   "execution_count": 7,
   "metadata": {},
   "outputs": [],
   "source": [
    "#export\n",
    "def flatten(x:list):\n",
    "    flattened_list = []\n",
    "    for item in x:\n",
    "        if isinstance(item, (tuple,list)):\n",
    "            [flattened_list.append(i) for i in item]\n",
    "        else:\n",
    "            flattened_list.append(item)\n",
    "    return flattened_list"
   ]
  },
  {
   "cell_type": "code",
   "execution_count": 8,
   "metadata": {},
   "outputs": [],
   "source": [
    "#export\n",
    "mkdir     = lambda x: x.mkdir(exist_ok=True)\n",
    "uniqueify = lambda x: sorted(list(set(x)))"
   ]
  },
  {
   "cell_type": "code",
   "execution_count": null,
   "metadata": {},
   "outputs": [],
   "source": []
  },
  {
   "cell_type": "markdown",
   "metadata": {},
   "source": [
    "### Clean Filename"
   ]
  },
  {
   "cell_type": "code",
   "execution_count": 12,
   "metadata": {},
   "outputs": [],
   "source": [
    "#export\n",
    "def clean_filename(f, truncate=True, prefix=None, to_lower=True):\n",
    "    import re\n",
    "    \n",
    "    f = Path(f)\n",
    "    fractions  = '\\u00BC-\\u00BE\\u2150-\\u215E' # not-exhaustive..?\n",
    "    supscripts = '\\u00B1-\\u00B9'\n",
    "\n",
    "    fname_new = re.sub(f'[\\W{supscripts}{fractions}]', '_', f.stem) # captures (?) subscripts, fractions, other non-alphanumerics\n",
    "    fname_new = re.sub(f'[^A-Za-z0-9_+]', '_', fname_new)           # captures alphabets in foreign languages\n",
    "    fname_new = re.sub('^[\\W_]*'     , '' , fname_new)              # replace leading spl characters or '_'\n",
    "    \n",
    "    if truncate:\n",
    "        if len(fname_new) > 200: fname_new = fname_new[:200]\n",
    "    if prefix:\n",
    "        fname_new = f\"{prefix}_{fname_new}\"\n",
    "    if to_lower: fname_new = fname_new.lower()\n",
    "    \n",
    "    return fname_new"
   ]
  },
  {
   "cell_type": "markdown",
   "metadata": {},
   "source": [
    "### Export"
   ]
  },
  {
   "cell_type": "code",
   "execution_count": 13,
   "metadata": {},
   "outputs": [
    {
     "name": "stdout",
     "output_type": "stream",
     "text": [
      "Converted utils.ipynb.\n"
     ]
    }
   ],
   "source": [
    "from nbdev.export import *\n",
    "notebook2script('utils.ipynb')"
   ]
  }
 ],
 "metadata": {
  "kernelspec": {
   "display_name": "Python 3",
   "language": "python",
   "name": "python3"
  },
  "language_info": {
   "codemirror_mode": {
    "name": "ipython",
    "version": 3
   },
   "file_extension": ".py",
   "mimetype": "text/x-python",
   "name": "python",
   "nbconvert_exporter": "python",
   "pygments_lexer": "ipython3",
   "version": "3.7.7"
  },
  "varInspector": {
   "cols": {
    "lenName": 16,
    "lenType": 16,
    "lenVar": 40
   },
   "kernels_config": {
    "python": {
     "delete_cmd_postfix": "",
     "delete_cmd_prefix": "del ",
     "library": "var_list.py",
     "varRefreshCmd": "print(var_dic_list())"
    },
    "r": {
     "delete_cmd_postfix": ") ",
     "delete_cmd_prefix": "rm(",
     "library": "var_list.r",
     "varRefreshCmd": "cat(var_dic_list()) "
    }
   },
   "types_to_exclude": [
    "module",
    "function",
    "builtin_function_or_method",
    "instance",
    "_Feature"
   ],
   "window_display": false
  }
 },
 "nbformat": 4,
 "nbformat_minor": 4
}
