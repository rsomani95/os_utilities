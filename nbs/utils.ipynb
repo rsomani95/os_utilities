{
 "cells": [
  {
   "cell_type": "code",
   "execution_count": 12,
   "metadata": {},
   "outputs": [],
   "source": [
    "#default_exp utils"
   ]
  },
  {
   "cell_type": "code",
   "execution_count": 13,
   "metadata": {},
   "outputs": [],
   "source": [
    "#export\n",
    "from pathlib import Path\n",
    "from typing import Union,Dict,List,Tuple,Any,Optional,Collection\n",
    "\n",
    "import shutil\n",
    "import re\n",
    "import json\n",
    "import os\n",
    "import mimetypes"
   ]
  },
  {
   "cell_type": "code",
   "execution_count": 14,
   "metadata": {},
   "outputs": [],
   "source": [
    "#export\n",
    "PathOrStr     = Union[str,Path]\n",
    "ListOfPaths   = Collection[Path]\n",
    "ListOfStrings = Collection[str]"
   ]
  },
  {
   "cell_type": "markdown",
   "metadata": {},
   "source": [
    "### List Files "
   ]
  },
  {
   "cell_type": "code",
   "execution_count": 15,
   "metadata": {},
   "outputs": [],
   "source": [
    "#export\n",
    "def ls(path:Path, list_hidden=False):\n",
    "    \"List files, while hiding hidden files or directories by default\"\n",
    "    if list_hidden: return list(path.iterdir())\n",
    "    else:\n",
    "        return [p for p in path.iterdir() if not p.name.startswith('.')]\n",
    "\n",
    "Path.ls       = lambda x,hidden=False: ls(x,hidden)\n",
    "Path.listdirs = lambda x: sorted([p for p in x.ls() if p.is_dir()])"
   ]
  },
  {
   "cell_type": "markdown",
   "metadata": {},
   "source": [
    "### Get Files From Directory"
   ]
  },
  {
   "cell_type": "code",
   "execution_count": 16,
   "metadata": {},
   "outputs": [],
   "source": [
    "#export\n",
    "def get_files(path:PathOrStr, extensions:Collection[str]=None, recurse:bool=False, exclude:Optional[Collection[str]]=None,\n",
    "              include:Optional[Collection[str]]=None, presort:bool=False, followlinks:bool=False) -> ListOfPaths:\n",
    "    \"\"\"\n",
    "    Return list of files in `path` that have a suffix in `extensions`; optionally `recurse`.\n",
    "    Use `include` and `exclude` for including/excluding folder names, `presort` to sort.\n",
    "    \"\"\"\n",
    "    if recurse:\n",
    "        res = []\n",
    "        for i,(p,d,f) in enumerate(os.walk(path, followlinks=followlinks)):\n",
    "            # skip hidden dirs\n",
    "            if include is not None and i==0:   d[:] = [o for o in d if o in include]\n",
    "            elif exclude is not None and i==0: d[:] = [o for o in d if o not in exclude]\n",
    "            else:                              d[:] = [o for o in d if not o.startswith('.')]\n",
    "            res += _get_files(path, p, f, extensions)\n",
    "        if presort: res = sorted(res, key=lambda p: _path_to_same_str(p), reverse=False)\n",
    "        return res\n",
    "    else:\n",
    "        f = [o.name for o in os.scandir(path) if o.is_file()]\n",
    "        res = _get_files(path, path, f, extensions)\n",
    "        if presort: res = sorted(res, key=lambda p: _path_to_same_str(p), reverse=False)\n",
    "        return res\n",
    "\n",
    "def _path_to_same_str(p_fn):\n",
    "    \"path -> str, but same on nt+posix, for alpha-sort only\"\n",
    "    s_fn = str(p_fn)\n",
    "    s_fn = s_fn.replace('\\\\','.')\n",
    "    s_fn = s_fn.replace('/','.')\n",
    "    return s_fn\n",
    "\n",
    "def _get_files(parent, p, f, extensions):\n",
    "    p = Path(p)#.relative_to(parent)\n",
    "    if isinstance(extensions,str): extensions = [extensions]\n",
    "    low_extensions = [e.lower() for e in extensions] if extensions is not None else None\n",
    "    res = [p/o for o in f if not o.startswith('.')\n",
    "           and (extensions is None or f'.{o.split(\".\")[-1].lower()}' in low_extensions)]\n",
    "    return res\n",
    "\n",
    "image_extensions = set(k for k,v in mimetypes.types_map.items() if v.startswith('image/'))\n",
    "video_extensions = set([k for k,v in mimetypes.types_map.items() if v.startswith('video/')] + ['.mkv'])\n",
    "\n",
    "def get_image_files(path:PathOrStr, include:Optional[ListOfStrings]=None, exclude:Optional[ListOfStrings]=None, recurse:bool=True):\n",
    "    return get_files(path=path, include=include, exclude=exclude, recurse=recurse, extensions=image_extensions)\n"
   ]
  },
  {
   "cell_type": "code",
   "execution_count": null,
   "metadata": {},
   "outputs": [],
   "source": []
  },
  {
   "cell_type": "markdown",
   "metadata": {},
   "source": [
    "### Flatten List, List of Lists"
   ]
  },
  {
   "cell_type": "code",
   "execution_count": 17,
   "metadata": {},
   "outputs": [],
   "source": [
    "#export\n",
    "def flatten(x:list):\n",
    "    flattened_list = []\n",
    "    for item in x:\n",
    "        if isinstance(item, (tuple,list)):\n",
    "            [flattened_list.append(i) for i in item]\n",
    "        else:\n",
    "            flattened_list.append(item)\n",
    "    return flattened_list"
   ]
  },
  {
   "cell_type": "code",
   "execution_count": 18,
   "metadata": {},
   "outputs": [],
   "source": [
    "#export\n",
    "uniqueify = lambda x: sorted(list(set(x)))"
   ]
  },
  {
   "cell_type": "code",
   "execution_count": null,
   "metadata": {},
   "outputs": [],
   "source": []
  }
 ],
 "metadata": {
  "kernelspec": {
   "display_name": "Python 3",
   "language": "python",
   "name": "python3"
  },
  "language_info": {
   "codemirror_mode": {
    "name": "ipython",
    "version": 3
   },
   "file_extension": ".py",
   "mimetype": "text/x-python",
   "name": "python",
   "nbconvert_exporter": "python",
   "pygments_lexer": "ipython3",
   "version": "3.7.7"
  },
  "varInspector": {
   "cols": {
    "lenName": 16,
    "lenType": 16,
    "lenVar": 40
   },
   "kernels_config": {
    "python": {
     "delete_cmd_postfix": "",
     "delete_cmd_prefix": "del ",
     "library": "var_list.py",
     "varRefreshCmd": "print(var_dic_list())"
    },
    "r": {
     "delete_cmd_postfix": ") ",
     "delete_cmd_prefix": "rm(",
     "library": "var_list.r",
     "varRefreshCmd": "cat(var_dic_list()) "
    }
   },
   "types_to_exclude": [
    "module",
    "function",
    "builtin_function_or_method",
    "instance",
    "_Feature"
   ],
   "window_display": false
  }
 },
 "nbformat": 4,
 "nbformat_minor": 4
}
