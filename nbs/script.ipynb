{
 "cells": [
  {
   "cell_type": "code",
   "execution_count": null,
   "metadata": {},
   "outputs": [],
   "source": [
    "#default_exp script"
   ]
  },
  {
   "cell_type": "markdown",
   "metadata": {},
   "source": [
    "Mostly copied over from the [fastcore](https://fastcore.fast.ai/) library, with a few minor tweaks:\n",
    "\n",
    "* `anno_parser` can take an `alias` for one character inputs and has `metavar` exposed (set to '' by default)\n",
    "* `Param` returns the help string as `__repr__` which makes for nicer shift-tab to use in a notebook"
   ]
  },
  {
   "cell_type": "code",
   "execution_count": null,
   "metadata": {},
   "outputs": [],
   "source": [
    "#export\n",
    "import argparse\n",
    "import inspect\n",
    "import functools\n",
    "import distutils\n",
    "import sys\n",
    "import re\n",
    "\n",
    "from IPython.display import Markdown"
   ]
  },
  {
   "cell_type": "code",
   "execution_count": null,
   "metadata": {},
   "outputs": [],
   "source": [
    "#export\n",
    "def _store_attr(self, anno, **attrs):\n",
    "    for n,v in attrs.items():\n",
    "        if n in anno: v = anno[n](v)\n",
    "        setattr(self, n, v)\n",
    "        self.__stored_args__[n] = v\n",
    "\n",
    "def store_attr(names=None, self=None, but=None, cast=False, **attrs):\n",
    "    \"Store params named in comma-separated `names` from calling context into attrs in `self`\"\n",
    "    fr = sys._getframe(1)\n",
    "    args = fr.f_code.co_varnames[:fr.f_code.co_argcount]\n",
    "    if self: args = ('self', *args)\n",
    "    else: self = fr.f_locals[args[0]]\n",
    "    if not hasattr(self, '__stored_args__'): self.__stored_args__ = {}\n",
    "    anno = self.__class__.__init__.__annotations__ if cast else {}\n",
    "    if attrs: return _store_attr(self, anno, **attrs)\n",
    "    ns = re.split(', *', names) if names else args[1:]\n",
    "    _store_attr(self, anno, **{n:fr.f_locals[n] for n in ns if n not in listify(but)})"
   ]
  },
  {
   "cell_type": "code",
   "execution_count": null,
   "metadata": {},
   "outputs": [],
   "source": [
    "#export\n",
    "def str2bool(s):\n",
    "    \"Case-insensitive convert string `s` too a bool (`y`,`yes`,`t`,`true`,`on`,`1`->`True`)\"\n",
    "    if not isinstance(s,str): return bool(s)\n",
    "    return bool(distutils.util.strtobool(s)) if s else False"
   ]
  },
  {
   "cell_type": "code",
   "execution_count": null,
   "metadata": {},
   "outputs": [],
   "source": [
    "#export\n",
    "def store_true():\n",
    "    \"Placeholder to pass to `Param` for `store_true` action\"\n",
    "    pass\n",
    "\n",
    "def store_false():\n",
    "    \"Placeholder to pass to `Param` for `store_false` action\"\n",
    "    pass\n",
    "\n",
    "def bool_arg(v):\n",
    "    \"Use as `type` for `Param` to get `bool` behavior\"\n",
    "    return str2bool(v)\n",
    "\n",
    "def args_from_prog(func, prog):\n",
    "    \"Extract args from `prog`\"\n",
    "    if prog is None or '#' not in prog: return {}\n",
    "    if '##' in prog: _,prog = prog.split('##', 1)\n",
    "    progsp = prog.split(\"#\")\n",
    "    args = {progsp[i]:progsp[i+1] for i in range(0, len(progsp), 2)}\n",
    "    for k,v in args.items():\n",
    "        t = func.__annotations__.get(k, Param()).type\n",
    "        if t: args[k] = t(v)\n",
    "    return args\n",
    "\n",
    "def call_parse(func):\n",
    "    \"Decorator to create a simple CLI from `func` using `anno_parser`\"\n",
    "    mod = inspect.getmodule(inspect.currentframe().f_back)\n",
    "    if not mod: return func\n",
    "\n",
    "    @functools.wraps(func)\n",
    "    def _f(*args, **kwargs):\n",
    "        mod = inspect.getmodule(inspect.currentframe().f_back)\n",
    "        if not mod: return func(*args, **kwargs)\n",
    "        p = anno_parser(func)\n",
    "        args = p.parse_args().__dict__\n",
    "        xtra = otherwise(args.pop('xtra', ''), eq(1), p.prog)\n",
    "        tfunc = trace(func) if args.pop('pdb', False) else func\n",
    "        tfunc(**merge(args, args_from_prog(func, xtra)))\n",
    "\n",
    "    if mod.__name__==\"__main__\":\n",
    "        setattr(mod, func.__name__, _f)\n",
    "        return _f()\n",
    "    else: return _f"
   ]
  },
  {
   "cell_type": "code",
   "execution_count": null,
   "metadata": {},
   "outputs": [],
   "source": [
    "#export\n",
    "def maybe_attr(o, attr):\n",
    "    \"`getattr(o,attr,o)`\"\n",
    "    return getattr(o,attr,o)\n",
    "\n",
    "def basic_repr(flds=None):\n",
    "    if isinstance(flds, str): flds = re.split(', *', flds)\n",
    "    flds = list(flds or [])\n",
    "    def _f(self):\n",
    "        sig = ', '.join(f'{o}={maybe_attr(getattr(self,o), \"__name__\")}' for o in flds)\n",
    "        return f'{self.__class__.__name__}({sig})'\n",
    "    return _f"
   ]
  },
  {
   "cell_type": "code",
   "execution_count": null,
   "metadata": {},
   "outputs": [],
   "source": [
    "#export\n",
    "class CustomFormatter(argparse.ArgumentDefaultsHelpFormatter,\n",
    "                      argparse.RawDescriptionHelpFormatter,\n",
    "                      #argparse.MetavarTypeHelpFormatter\n",
    "                     ): pass"
   ]
  },
  {
   "cell_type": "code",
   "execution_count": null,
   "metadata": {},
   "outputs": [],
   "source": [
    "#export\n",
    "def is_array(x):\n",
    "    \"`True` if `x` supports `__array__` or `iloc`\"\n",
    "    return hasattr(x,'__array__') or hasattr(x,'iloc')"
   ]
  },
  {
   "cell_type": "code",
   "execution_count": null,
   "metadata": {},
   "outputs": [],
   "source": [
    "#export\n",
    "def is_iter(o):\n",
    "    \"Test whether `o` can be used in a `for` loop\"\n",
    "    #Rank 0 tensors in PyTorch are not really iterable\n",
    "    return isinstance(o, (Iterable,Generator)) and getattr(o,'ndim',1)"
   ]
  },
  {
   "cell_type": "code",
   "execution_count": null,
   "metadata": {},
   "outputs": [],
   "source": [
    "#export\n",
    "def listify(o):\n",
    "    \"Convert `o` to a `list`\"\n",
    "    if o is None: return []\n",
    "    if isinstance(o, list): return o\n",
    "    if isinstance(o, str) or is_array(o): return [o]\n",
    "    if is_iter(o): return list(o)\n",
    "    return [o]"
   ]
  },
  {
   "cell_type": "code",
   "execution_count": null,
   "metadata": {},
   "outputs": [],
   "source": [
    "#export\n",
    "def clean_type(t:str):\n",
    "    doc = str(t)\n",
    "    doc = doc.replace('class ','')\n",
    "    doc = doc.replace('<', '').replace('>', '')\n",
    "    doc = doc.replace(\"'\", '')\n",
    "    doc = doc.replace('__main__.', '')\n",
    "    return doc"
   ]
  },
  {
   "cell_type": "code",
   "execution_count": null,
   "metadata": {},
   "outputs": [
    {
     "name": "stdout",
     "output_type": "stream",
     "text": [
      "int\n",
      "CustomFormatter\n"
     ]
    }
   ],
   "source": [
    "print(clean_type(int))\n",
    "print(clean_type(CustomFormatter))"
   ]
  },
  {
   "cell_type": "code",
   "execution_count": null,
   "metadata": {},
   "outputs": [],
   "source": [
    "#export\n",
    "class Param:\n",
    "    \"A parameter in a function used in `anno_parser` or `call_parse`\"\n",
    "    #__repr__=basic_repr('help')\n",
    "    def __init__(self, help=None, type=None, opt=True, action=None, nargs=None, const=None,\n",
    "                 choices=None, required=True, alias=None, metavar='', default=None):\n",
    "        if type==store_true:  type,action,default=None,'store_true' ,False\n",
    "        if type==store_false: type,action,default=None,'store_false',True\n",
    "        store_attr()\n",
    "\n",
    "    def set_default(self, d):\n",
    "        if self.default is None:\n",
    "            if d==inspect.Parameter.empty and self.required is False:\n",
    "                self.required = None\n",
    "                self.opt = False\n",
    "            else: self.default = d\n",
    "    \n",
    "    @property\n",
    "    def kwargs(self): return {k:v for k,v in self.__dict__.items()\n",
    "                              if v is not None and k!='opt' and k[0]!='_' and k!='alias'}\n",
    "    #@property\n",
    "    #def pre(self): return '--' if not self.opt else ''\n",
    "    def __repr__(self):\n",
    "        if self.help is not None:\n",
    "              return f\"{clean_type(self.type)} ({self.help})\"\n",
    "        else: return f\"{clean_type(self.type)}\""
   ]
  },
  {
   "cell_type": "code",
   "execution_count": null,
   "metadata": {},
   "outputs": [],
   "source": [
    "#export\n",
    "def anno_parser(func, prog=None, description=None, usage=None, epilog=None):\n",
    "    \"Look at params (annotated with `Param`) in func and return an `ArgumentParser`\"\n",
    "    p = argparse.ArgumentParser(\n",
    "        description=func.__doc__, prog=prog, usage=usage,\n",
    "        formatter_class=argparse.MetavarTypeHelpFormatter)\n",
    "    for k,v in inspect.signature(func).parameters.items():\n",
    "        param = func.__annotations__.get(k, Param())\n",
    "        param.set_default(v.default)\n",
    "        if param.opt is True:\n",
    "            if param.alias is None: p.add_argument( f\"--{k}\", **param.kwargs)\n",
    "            else: p.add_argument(f\"-{param.alias}\", f\"--{k}\", **param.kwargs)\n",
    "        else:\n",
    "            p.add_argument(k, **param.kwargs)\n",
    "    p.add_argument(f\"--pdb\", help=\"Run in pdb debugger\", action='store_true')\n",
    "    p.add_argument(f\"--xtra\", help=\"Parse for additional args\", type=str)\n",
    "    return p"
   ]
  },
  {
   "cell_type": "code",
   "execution_count": null,
   "metadata": {},
   "outputs": [],
   "source": [
    "#export\n",
    "from typing import Callable\n",
    "def assign_doc(func:Callable, docs:str):\n",
    "    assert inspect.isfunction(func)\n",
    "    assert isinstance(docs,str)\n",
    "    func.__doc__ = docs"
   ]
  },
  {
   "cell_type": "markdown",
   "metadata": {},
   "source": [
    "If you want a positional argument, explicitly pass `required=False` into `Param`"
   ]
  },
  {
   "cell_type": "code",
   "execution_count": null,
   "metadata": {},
   "outputs": [],
   "source": [
    "@call_parse\n",
    "def func(input_path:Param('path to the input directory', int, alias='i', required=False),\n",
    "         output_path:Param('path to the output', int, alias='o')=20,\n",
    "         temp:Param(type=CustomFormatter)=''):\n",
    "    print(input_path + output_path)"
   ]
  },
  {
   "cell_type": "code",
   "execution_count": null,
   "metadata": {},
   "outputs": [
    {
     "name": "stdout",
     "output_type": "stream",
     "text": [
      "usage: ipykernel_launcher.py [-h] -o  --temp  [--pdb] [--xtra str]\n",
      "\n",
      "positional arguments:\n",
      "                       path to the input directory\n",
      "\n",
      "optional arguments:\n",
      "  -h, --help           show this help message and exit\n",
      "  -o , --output_path   path to the output\n",
      "  --temp \n",
      "  --pdb                Run in pdb debugger\n",
      "  --xtra str           Parse for additional args\n"
     ]
    }
   ],
   "source": [
    "p = anno_parser(func)\n",
    "p.print_help()"
   ]
  },
  {
   "cell_type": "markdown",
   "metadata": {},
   "source": [
    "If you want a positional argument, explicitly pass `required=False` into `Param`"
   ]
  },
  {
   "cell_type": "code",
   "execution_count": null,
   "metadata": {},
   "outputs": [],
   "source": [
    "@call_parse\n",
    "def func(input_path:Param('path to the input directory', int, alias='i', metavar=\"INP\"),\n",
    "         output_path:Param('path to the output', int, alias='o')=20,\n",
    "         temp:Param(type=CustomFormatter)=''):\n",
    "    print(input_path + output_path)"
   ]
  },
  {
   "cell_type": "code",
   "execution_count": null,
   "metadata": {},
   "outputs": [
    {
     "name": "stdout",
     "output_type": "stream",
     "text": [
      "usage: ipykernel_launcher.py [-h] -i INP -o  --temp  [--pdb] [--xtra str]\n",
      "\n",
      "optional arguments:\n",
      "  -h, --help            show this help message and exit\n",
      "  -i INP, --input_path INP\n",
      "                        path to the input directory\n",
      "  -o , --output_path    path to the output\n",
      "  --temp \n",
      "  --pdb                 Run in pdb debugger\n",
      "  --xtra str            Parse for additional args\n"
     ]
    }
   ],
   "source": [
    "p = anno_parser(func)\n",
    "p.print_help()"
   ]
  },
  {
   "cell_type": "code",
   "execution_count": null,
   "metadata": {},
   "outputs": [],
   "source": []
  },
  {
   "cell_type": "markdown",
   "metadata": {},
   "source": [
    "### Export"
   ]
  },
  {
   "cell_type": "code",
   "execution_count": null,
   "metadata": {},
   "outputs": [
    {
     "name": "stdout",
     "output_type": "stream",
     "text": [
      "Converted script.ipynb.\n"
     ]
    }
   ],
   "source": [
    "from nbdev.export import notebook2script\n",
    "notebook2script('script.ipynb')"
   ]
  }
 ],
 "metadata": {
  "kernelspec": {
   "display_name": "FastAI_2.1",
   "language": "python",
   "name": "fastai_2.1"
  }
 },
 "nbformat": 4,
 "nbformat_minor": 4
}
